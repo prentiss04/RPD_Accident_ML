{
 "cells": [
  {
   "cell_type": "code",
   "execution_count": 1,
   "metadata": {},
   "outputs": [],
   "source": [
    "# Import dependencies\n",
    "import pandas as pd\n",
    "import numpy as np"
   ]
  },
  {
   "cell_type": "markdown",
   "metadata": {},
   "source": [
    "# Data Extraction"
   ]
  },
  {
   "cell_type": "code",
   "execution_count": 2,
   "metadata": {},
   "outputs": [
    {
     "name": "stderr",
     "output_type": "stream",
     "text": [
      "C:\\Users\\rusinghal\\AppData\\Local\\Continuum\\anaconda3\\envs\\mlenv\\lib\\site-packages\\IPython\\core\\interactiveshell.py:3058: DtypeWarning: Columns (32,33,34,35,36,37,38,39,40,41,42,43,44) have mixed types. Specify dtype option on import or set low_memory=False.\n",
      "  interactivity=interactivity, compiler=compiler, result=result)\n"
     ]
    }
   ],
   "source": [
    "# Extract Kaggle Data\n",
    "\n",
    "kaggle_metadata = pd.read_csv('./US_Accidents_Dec19.tar.gz', compression='gzip', error_bad_lines=False)\n"
   ]
  },
  {
   "cell_type": "code",
   "execution_count": 3,
   "metadata": {},
   "outputs": [],
   "source": [
    "### Turn off SettingWithCopyWarning ##############\n",
    "pd.options.mode.chained_assignment = None"
   ]
  },
  {
   "cell_type": "code",
   "execution_count": 4,
   "metadata": {},
   "outputs": [
    {
     "data": {
      "text/plain": [
       "2974336"
      ]
     },
     "execution_count": 4,
     "metadata": {},
     "output_type": "execute_result"
    }
   ],
   "source": [
    "# Check total rows extraced\n",
    "len(kaggle_metadata)"
   ]
  },
  {
   "cell_type": "code",
   "execution_count": 5,
   "metadata": {},
   "outputs": [],
   "source": [
    "# Extract only Columns relevant for analysis\n",
    "df_subset = kaggle_metadata[['US_Accidents_Dec19.csv','Severity','Start_Time','End_Time',\n",
    "                             'Start_Lat','Start_Lng','Distance(mi)', 'Street','Side','City',\n",
    "                             'County','State','Zipcode','Timezone', \n",
    "                             'Temperature(F)','Humidity(%)','Pressure(in)',\n",
    "                             'Visibility(mi)','Wind_Direction','Wind_Speed(mph)','Precipitation(in)',\n",
    "                             'Weather_Condition','Amenity','Crossing','Junction','Railway',\n",
    "                             'Station','Stop','Traffic_Signal','Civil_Twilight'\n",
    "                            ]]"
   ]
  },
  {
   "cell_type": "markdown",
   "metadata": {},
   "source": [
    "# Transform"
   ]
  },
  {
   "cell_type": "code",
   "execution_count": 6,
   "metadata": {},
   "outputs": [
    {
     "data": {
      "text/plain": [
       "US_Accidents_Dec19.csv          1\n",
       "Severity                        1\n",
       "Start_Time                      1\n",
       "End_Time                        1\n",
       "Start_Lat                       1\n",
       "Start_Lng                       1\n",
       "Distance(mi)                    1\n",
       "Street                          1\n",
       "Side                            1\n",
       "City                           84\n",
       "County                          1\n",
       "State                           1\n",
       "Zipcode                       881\n",
       "Timezone                     3164\n",
       "Temperature(F)              56064\n",
       "Humidity(%)                 59174\n",
       "Pressure(in)                48143\n",
       "Visibility(mi)              65692\n",
       "Wind_Direction              45102\n",
       "Wind_Speed(mph)            440841\n",
       "Precipitation(in)         1998359\n",
       "Weather_Condition           65933\n",
       "Amenity                         1\n",
       "Crossing                        1\n",
       "Junction                        1\n",
       "Railway                         1\n",
       "Station                         1\n",
       "Stop                            1\n",
       "Traffic_Signal                  1\n",
       "Civil_Twilight                 94\n",
       "dtype: int64"
      ]
     },
     "execution_count": 6,
     "metadata": {},
     "output_type": "execute_result"
    }
   ],
   "source": [
    "# Check Null Values\n",
    "df_subset.isnull().sum()"
   ]
  },
  {
   "cell_type": "code",
   "execution_count": 7,
   "metadata": {},
   "outputs": [],
   "source": [
    "# Fill NA with zero values for Precipitation column\n",
    "df_subset[\"Precipitation(in)\"].fillna(0, inplace = True) "
   ]
  },
  {
   "cell_type": "code",
   "execution_count": 8,
   "metadata": {},
   "outputs": [],
   "source": [
    "# Drop rows with other NA values\n",
    "df_subset.dropna(inplace=True)"
   ]
  },
  {
   "cell_type": "code",
   "execution_count": 9,
   "metadata": {},
   "outputs": [
    {
     "data": {
      "text/plain": [
       "2506618"
      ]
     },
     "execution_count": 9,
     "metadata": {},
     "output_type": "execute_result"
    }
   ],
   "source": [
    "# Check the resulting dataset length\n",
    "len(df_subset)"
   ]
  },
  {
   "cell_type": "code",
   "execution_count": 10,
   "metadata": {},
   "outputs": [],
   "source": [
    "# Sort the dataframe on Severity so that when removing duplicates the one with higher severity is retained\n",
    "sorted_df = df_subset.sort_values('Severity',ascending=False)"
   ]
  },
  {
   "cell_type": "code",
   "execution_count": 11,
   "metadata": {},
   "outputs": [
    {
     "data": {
      "text/plain": [
       "2494218"
      ]
     },
     "execution_count": 11,
     "metadata": {},
     "output_type": "execute_result"
    }
   ],
   "source": [
    "# Check how many duplicates exist in the dataset\n",
    "len(sorted_df[['Severity', 'Start_Time', 'Start_Lat', 'Start_Lng']].drop_duplicates())"
   ]
  },
  {
   "cell_type": "code",
   "execution_count": 12,
   "metadata": {},
   "outputs": [],
   "source": [
    "# Remove duplicates\n",
    "sorted_df.drop_duplicates(subset=['Severity', 'Start_Time', 'Start_Lat', 'Start_Lng'], inplace = True) "
   ]
  },
  {
   "cell_type": "code",
   "execution_count": 13,
   "metadata": {},
   "outputs": [
    {
     "data": {
      "text/plain": [
       "2494218"
      ]
     },
     "execution_count": 13,
     "metadata": {},
     "output_type": "execute_result"
    }
   ],
   "source": [
    "# Check length of the remaining dataset after removing duplicate and Null value rows\n",
    "len(sorted_df)"
   ]
  },
  {
   "cell_type": "code",
   "execution_count": 14,
   "metadata": {},
   "outputs": [
    {
     "data": {
      "text/plain": [
       "US_Accidents_Dec19.csv     object\n",
       "Severity                  float64\n",
       "Start_Time                 object\n",
       "End_Time                   object\n",
       "Start_Lat                 float64\n",
       "Start_Lng                 float64\n",
       "Distance(mi)              float64\n",
       "Street                     object\n",
       "Side                       object\n",
       "City                       object\n",
       "County                     object\n",
       "State                      object\n",
       "Zipcode                    object\n",
       "Timezone                   object\n",
       "Temperature(F)            float64\n",
       "Humidity(%)               float64\n",
       "Pressure(in)              float64\n",
       "Visibility(mi)            float64\n",
       "Wind_Direction             object\n",
       "Wind_Speed(mph)           float64\n",
       "Precipitation(in)         float64\n",
       "Weather_Condition          object\n",
       "Amenity                    object\n",
       "Crossing                   object\n",
       "Junction                   object\n",
       "Railway                    object\n",
       "Station                    object\n",
       "Stop                       object\n",
       "Traffic_Signal             object\n",
       "Civil_Twilight             object\n",
       "dtype: object"
      ]
     },
     "execution_count": 14,
     "metadata": {},
     "output_type": "execute_result"
    }
   ],
   "source": [
    "# check datatypes for corrections\n",
    "sorted_df.dtypes"
   ]
  },
  {
   "cell_type": "markdown",
   "metadata": {},
   "source": [
    "#### Split Date and Time Column into Date, Time, Time in Seconds, and Day of week columns"
   ]
  },
  {
   "cell_type": "code",
   "execution_count": 15,
   "metadata": {},
   "outputs": [],
   "source": [
    "# new data frame with split value Start date time column\n",
    "newstart = sorted_df[\"Start_Time\"].str.split(\" \",expand = True) \n",
    "  \n",
    "# making separate Start Time column from new data frame \n",
    "sorted_df[\"Start_Time_of_Day\"]= newstart[1] "
   ]
  },
  {
   "cell_type": "code",
   "execution_count": 16,
   "metadata": {},
   "outputs": [],
   "source": [
    "# new data frame with split value End date time column\n",
    "newend = sorted_df[\"End_Time\"].str.split(\" \",expand = True) \n",
    "\n",
    "# making separate Start Time column from new data frame \n",
    "sorted_df[\"End_Time_of_Day\"]= newend[1] "
   ]
  },
  {
   "cell_type": "code",
   "execution_count": 17,
   "metadata": {},
   "outputs": [],
   "source": [
    "# Convert Time to seconds for Start Time and End Time\n",
    "sorted_df['Start_seconds'] = pd.to_timedelta(sorted_df['Start_Time_of_Day']).dt.seconds\n",
    "\n",
    "# Convert Time to seconds for Start Time and End Time\n",
    "sorted_df['End_seconds'] = pd.to_timedelta(sorted_df['End_Time_of_Day']).dt.seconds"
   ]
  },
  {
   "cell_type": "code",
   "execution_count": 18,
   "metadata": {},
   "outputs": [],
   "source": [
    "sorted_df['Start_Time'] = pd.to_datetime(sorted_df.Start_Time)\n",
    "sorted_df['End_Time'] = pd.to_datetime(sorted_df.End_Time)"
   ]
  },
  {
   "cell_type": "code",
   "execution_count": 19,
   "metadata": {},
   "outputs": [],
   "source": [
    "# Get Day of the week for the accident\n",
    "sorted_df['Day_of_Week'] = sorted_df['Start_Time'].dt.weekday"
   ]
  },
  {
   "cell_type": "code",
   "execution_count": 20,
   "metadata": {},
   "outputs": [
    {
     "data": {
      "text/html": [
       "<div>\n",
       "<style scoped>\n",
       "    .dataframe tbody tr th:only-of-type {\n",
       "        vertical-align: middle;\n",
       "    }\n",
       "\n",
       "    .dataframe tbody tr th {\n",
       "        vertical-align: top;\n",
       "    }\n",
       "\n",
       "    .dataframe thead th {\n",
       "        text-align: right;\n",
       "    }\n",
       "</style>\n",
       "<table border=\"1\" class=\"dataframe\">\n",
       "  <thead>\n",
       "    <tr style=\"text-align: right;\">\n",
       "      <th></th>\n",
       "      <th>US_Accidents_Dec19.csv</th>\n",
       "      <th>Severity</th>\n",
       "      <th>Start_Time</th>\n",
       "      <th>End_Time</th>\n",
       "      <th>Start_Lat</th>\n",
       "      <th>Start_Lng</th>\n",
       "      <th>Distance(mi)</th>\n",
       "      <th>Street</th>\n",
       "      <th>Side</th>\n",
       "      <th>City</th>\n",
       "      <th>...</th>\n",
       "      <th>Railway</th>\n",
       "      <th>Station</th>\n",
       "      <th>Stop</th>\n",
       "      <th>Traffic_Signal</th>\n",
       "      <th>Civil_Twilight</th>\n",
       "      <th>Start_Time_of_Day</th>\n",
       "      <th>End_Time_of_Day</th>\n",
       "      <th>Start_seconds</th>\n",
       "      <th>End_seconds</th>\n",
       "      <th>Day_of_Week</th>\n",
       "    </tr>\n",
       "  </thead>\n",
       "  <tbody>\n",
       "    <tr>\n",
       "      <td>2782693</td>\n",
       "      <td>A-2782717</td>\n",
       "      <td>4.0</td>\n",
       "      <td>2018-05-22 15:54:12</td>\n",
       "      <td>2018-05-22 21:54:12</td>\n",
       "      <td>32.142385</td>\n",
       "      <td>-81.176194</td>\n",
       "      <td>0.402</td>\n",
       "      <td>GA Highway 21</td>\n",
       "      <td>L</td>\n",
       "      <td>Port Wentworth</td>\n",
       "      <td>...</td>\n",
       "      <td>False</td>\n",
       "      <td>False</td>\n",
       "      <td>False</td>\n",
       "      <td>False</td>\n",
       "      <td>Day</td>\n",
       "      <td>15:54:12</td>\n",
       "      <td>21:54:12</td>\n",
       "      <td>57252</td>\n",
       "      <td>78852</td>\n",
       "      <td>1</td>\n",
       "    </tr>\n",
       "    <tr>\n",
       "      <td>2584250</td>\n",
       "      <td>A-2584274</td>\n",
       "      <td>4.0</td>\n",
       "      <td>2019-10-01 20:52:52</td>\n",
       "      <td>2019-10-01 21:22:24</td>\n",
       "      <td>48.964400</td>\n",
       "      <td>-122.441456</td>\n",
       "      <td>0.475</td>\n",
       "      <td>E Badger Rd</td>\n",
       "      <td>L</td>\n",
       "      <td>Lynden</td>\n",
       "      <td>...</td>\n",
       "      <td>False</td>\n",
       "      <td>False</td>\n",
       "      <td>False</td>\n",
       "      <td>False</td>\n",
       "      <td>Night</td>\n",
       "      <td>20:52:52</td>\n",
       "      <td>21:22:24</td>\n",
       "      <td>75172</td>\n",
       "      <td>76944</td>\n",
       "      <td>1</td>\n",
       "    </tr>\n",
       "    <tr>\n",
       "      <td>2455305</td>\n",
       "      <td>A-2455329</td>\n",
       "      <td>4.0</td>\n",
       "      <td>2017-05-20 14:59:21</td>\n",
       "      <td>2017-05-20 20:59:21</td>\n",
       "      <td>47.701420</td>\n",
       "      <td>-122.344660</td>\n",
       "      <td>0.189</td>\n",
       "      <td>N 100th St</td>\n",
       "      <td>R</td>\n",
       "      <td>Seattle</td>\n",
       "      <td>...</td>\n",
       "      <td>False</td>\n",
       "      <td>False</td>\n",
       "      <td>False</td>\n",
       "      <td>True</td>\n",
       "      <td>Day</td>\n",
       "      <td>14:59:21</td>\n",
       "      <td>20:59:21</td>\n",
       "      <td>53961</td>\n",
       "      <td>75561</td>\n",
       "      <td>5</td>\n",
       "    </tr>\n",
       "    <tr>\n",
       "      <td>2888677</td>\n",
       "      <td>A-2888701</td>\n",
       "      <td>4.0</td>\n",
       "      <td>2017-08-05 14:10:19</td>\n",
       "      <td>2017-08-05 20:10:19</td>\n",
       "      <td>42.120200</td>\n",
       "      <td>-73.890961</td>\n",
       "      <td>1.251</td>\n",
       "      <td>State Route 9G</td>\n",
       "      <td>L</td>\n",
       "      <td>Germantown</td>\n",
       "      <td>...</td>\n",
       "      <td>False</td>\n",
       "      <td>False</td>\n",
       "      <td>False</td>\n",
       "      <td>False</td>\n",
       "      <td>Day</td>\n",
       "      <td>14:10:19</td>\n",
       "      <td>20:10:19</td>\n",
       "      <td>51019</td>\n",
       "      <td>72619</td>\n",
       "      <td>5</td>\n",
       "    </tr>\n",
       "    <tr>\n",
       "      <td>2455307</td>\n",
       "      <td>A-2455331</td>\n",
       "      <td>4.0</td>\n",
       "      <td>2017-05-20 17:07:32</td>\n",
       "      <td>2017-05-20 23:07:32</td>\n",
       "      <td>48.071800</td>\n",
       "      <td>-122.111380</td>\n",
       "      <td>1.272</td>\n",
       "      <td>WA-9</td>\n",
       "      <td>R</td>\n",
       "      <td>Marysville</td>\n",
       "      <td>...</td>\n",
       "      <td>False</td>\n",
       "      <td>False</td>\n",
       "      <td>False</td>\n",
       "      <td>False</td>\n",
       "      <td>Day</td>\n",
       "      <td>17:07:32</td>\n",
       "      <td>23:07:32</td>\n",
       "      <td>61652</td>\n",
       "      <td>83252</td>\n",
       "      <td>5</td>\n",
       "    </tr>\n",
       "  </tbody>\n",
       "</table>\n",
       "<p>5 rows × 35 columns</p>\n",
       "</div>"
      ],
      "text/plain": [
       "        US_Accidents_Dec19.csv  Severity          Start_Time  \\\n",
       "2782693              A-2782717       4.0 2018-05-22 15:54:12   \n",
       "2584250              A-2584274       4.0 2019-10-01 20:52:52   \n",
       "2455305              A-2455329       4.0 2017-05-20 14:59:21   \n",
       "2888677              A-2888701       4.0 2017-08-05 14:10:19   \n",
       "2455307              A-2455331       4.0 2017-05-20 17:07:32   \n",
       "\n",
       "                   End_Time  Start_Lat   Start_Lng  Distance(mi)  \\\n",
       "2782693 2018-05-22 21:54:12  32.142385  -81.176194         0.402   \n",
       "2584250 2019-10-01 21:22:24  48.964400 -122.441456         0.475   \n",
       "2455305 2017-05-20 20:59:21  47.701420 -122.344660         0.189   \n",
       "2888677 2017-08-05 20:10:19  42.120200  -73.890961         1.251   \n",
       "2455307 2017-05-20 23:07:32  48.071800 -122.111380         1.272   \n",
       "\n",
       "                  Street Side            City  ... Railway Station   Stop  \\\n",
       "2782693    GA Highway 21    L  Port Wentworth  ...   False   False  False   \n",
       "2584250      E Badger Rd    L          Lynden  ...   False   False  False   \n",
       "2455305       N 100th St    R         Seattle  ...   False   False  False   \n",
       "2888677   State Route 9G    L      Germantown  ...   False   False  False   \n",
       "2455307             WA-9    R      Marysville  ...   False   False  False   \n",
       "\n",
       "        Traffic_Signal  Civil_Twilight  Start_Time_of_Day  End_Time_of_Day  \\\n",
       "2782693          False             Day           15:54:12         21:54:12   \n",
       "2584250          False           Night           20:52:52         21:22:24   \n",
       "2455305           True             Day           14:59:21         20:59:21   \n",
       "2888677          False             Day           14:10:19         20:10:19   \n",
       "2455307          False             Day           17:07:32         23:07:32   \n",
       "\n",
       "         Start_seconds End_seconds  Day_of_Week  \n",
       "2782693          57252       78852            1  \n",
       "2584250          75172       76944            1  \n",
       "2455305          53961       75561            5  \n",
       "2888677          51019       72619            5  \n",
       "2455307          61652       83252            5  \n",
       "\n",
       "[5 rows x 35 columns]"
      ]
     },
     "execution_count": 20,
     "metadata": {},
     "output_type": "execute_result"
    }
   ],
   "source": [
    "sorted_df.head(5)"
   ]
  },
  {
   "cell_type": "code",
   "execution_count": 21,
   "metadata": {},
   "outputs": [
    {
     "data": {
      "text/plain": [
       "US_Accidents_Dec19.csv            object\n",
       "Severity                         float64\n",
       "Start_Time                datetime64[ns]\n",
       "End_Time                  datetime64[ns]\n",
       "Start_Lat                        float64\n",
       "Start_Lng                        float64\n",
       "Distance(mi)                     float64\n",
       "Street                            object\n",
       "Side                              object\n",
       "City                              object\n",
       "County                            object\n",
       "State                             object\n",
       "Zipcode                           object\n",
       "Timezone                          object\n",
       "Temperature(F)                   float64\n",
       "Humidity(%)                      float64\n",
       "Pressure(in)                     float64\n",
       "Visibility(mi)                   float64\n",
       "Wind_Direction                    object\n",
       "Wind_Speed(mph)                  float64\n",
       "Precipitation(in)                float64\n",
       "Weather_Condition                 object\n",
       "Amenity                           object\n",
       "Crossing                          object\n",
       "Junction                          object\n",
       "Railway                           object\n",
       "Station                           object\n",
       "Stop                              object\n",
       "Traffic_Signal                    object\n",
       "Civil_Twilight                    object\n",
       "Start_Time_of_Day                 object\n",
       "End_Time_of_Day                   object\n",
       "Start_seconds                      int64\n",
       "End_seconds                        int64\n",
       "Day_of_Week                        int64\n",
       "dtype: object"
      ]
     },
     "execution_count": 21,
     "metadata": {},
     "output_type": "execute_result"
    }
   ],
   "source": [
    "sorted_df.dtypes"
   ]
  },
  {
   "cell_type": "code",
   "execution_count": 22,
   "metadata": {},
   "outputs": [
    {
     "data": {
      "text/html": [
       "<div>\n",
       "<style scoped>\n",
       "    .dataframe tbody tr th:only-of-type {\n",
       "        vertical-align: middle;\n",
       "    }\n",
       "\n",
       "    .dataframe tbody tr th {\n",
       "        vertical-align: top;\n",
       "    }\n",
       "\n",
       "    .dataframe thead th {\n",
       "        text-align: right;\n",
       "    }\n",
       "</style>\n",
       "<table border=\"1\" class=\"dataframe\">\n",
       "  <thead>\n",
       "    <tr style=\"text-align: right;\">\n",
       "      <th></th>\n",
       "      <th>US_Accidents_Dec19.csv</th>\n",
       "      <th>Severity</th>\n",
       "      <th>Start_Time</th>\n",
       "      <th>End_Time</th>\n",
       "      <th>Start_Lat</th>\n",
       "      <th>Start_Lng</th>\n",
       "      <th>Distance(mi)</th>\n",
       "      <th>Street</th>\n",
       "      <th>Side</th>\n",
       "      <th>City</th>\n",
       "      <th>...</th>\n",
       "      <th>Railway</th>\n",
       "      <th>Station</th>\n",
       "      <th>Stop</th>\n",
       "      <th>Traffic_Signal</th>\n",
       "      <th>Civil_Twilight</th>\n",
       "      <th>Start_Time_of_Day</th>\n",
       "      <th>End_Time_of_Day</th>\n",
       "      <th>Start_seconds</th>\n",
       "      <th>End_seconds</th>\n",
       "      <th>Day_of_Week</th>\n",
       "    </tr>\n",
       "  </thead>\n",
       "  <tbody>\n",
       "    <tr>\n",
       "      <td>2782693</td>\n",
       "      <td>A-2782717</td>\n",
       "      <td>4.0</td>\n",
       "      <td>2018-05-22 15:54:12</td>\n",
       "      <td>2018-05-22 21:54:12</td>\n",
       "      <td>32.142385</td>\n",
       "      <td>-81.176194</td>\n",
       "      <td>0.402</td>\n",
       "      <td>GA Highway 21</td>\n",
       "      <td>L</td>\n",
       "      <td>Port Wentworth</td>\n",
       "      <td>...</td>\n",
       "      <td>False</td>\n",
       "      <td>False</td>\n",
       "      <td>False</td>\n",
       "      <td>False</td>\n",
       "      <td>Day</td>\n",
       "      <td>15:54:12</td>\n",
       "      <td>21:54:12</td>\n",
       "      <td>57252</td>\n",
       "      <td>78852</td>\n",
       "      <td>1</td>\n",
       "    </tr>\n",
       "  </tbody>\n",
       "</table>\n",
       "<p>1 rows × 35 columns</p>\n",
       "</div>"
      ],
      "text/plain": [
       "        US_Accidents_Dec19.csv  Severity          Start_Time  \\\n",
       "2782693              A-2782717       4.0 2018-05-22 15:54:12   \n",
       "\n",
       "                   End_Time  Start_Lat  Start_Lng  Distance(mi)  \\\n",
       "2782693 2018-05-22 21:54:12  32.142385 -81.176194         0.402   \n",
       "\n",
       "                 Street Side            City  ... Railway Station   Stop  \\\n",
       "2782693   GA Highway 21    L  Port Wentworth  ...   False   False  False   \n",
       "\n",
       "        Traffic_Signal  Civil_Twilight  Start_Time_of_Day  End_Time_of_Day  \\\n",
       "2782693          False             Day           15:54:12         21:54:12   \n",
       "\n",
       "         Start_seconds End_seconds  Day_of_Week  \n",
       "2782693          57252       78852            1  \n",
       "\n",
       "[1 rows x 35 columns]"
      ]
     },
     "execution_count": 22,
     "metadata": {},
     "output_type": "execute_result"
    }
   ],
   "source": [
    "sorted_df[sorted_df['US_Accidents_Dec19.csv'] == 'A-2782717']"
   ]
  },
  {
   "cell_type": "code",
   "execution_count": 23,
   "metadata": {},
   "outputs": [],
   "source": [
    "sorted_df.head(100).to_csv('Sample_data.csv')"
   ]
  }
 ],
 "metadata": {
  "kernelspec": {
   "display_name": "mlenv",
   "language": "python",
   "name": "mlenv"
  },
  "language_info": {
   "codemirror_mode": {
    "name": "ipython",
    "version": 3
   },
   "file_extension": ".py",
   "mimetype": "text/x-python",
   "name": "python",
   "nbconvert_exporter": "python",
   "pygments_lexer": "ipython3",
   "version": "3.7.4"
  }
 },
 "nbformat": 4,
 "nbformat_minor": 2
}
