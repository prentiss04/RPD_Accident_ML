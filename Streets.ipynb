{
 "cells": [
  {
   "cell_type": "code",
   "execution_count": 1,
   "metadata": {},
   "outputs": [],
   "source": [
    "import pandas as pd\n",
    "import numpy as np\n",
    "import re"
   ]
  },
  {
   "cell_type": "code",
   "execution_count": 2,
   "metadata": {},
   "outputs": [],
   "source": [
    "file_dir = 'C:/Users/prent/DSBC/Final_Project/RPD_Accident_ML'"
   ]
  },
  {
   "cell_type": "code",
   "execution_count": 3,
   "metadata": {},
   "outputs": [
    {
     "ename": "FileNotFoundError",
     "evalue": "[Errno 2] File b'C:/Users/prent/DSBC/Final_Project/RPD_Accident_ML/Streets.csv' does not exist: b'C:/Users/prent/DSBC/Final_Project/RPD_Accident_ML/Streets.csv'",
     "output_type": "error",
     "traceback": [
      "\u001b[1;31m---------------------------------------------------------------------------\u001b[0m",
      "\u001b[1;31mFileNotFoundError\u001b[0m                         Traceback (most recent call last)",
      "\u001b[1;32m<ipython-input-3-eefc3f6d234f>\u001b[0m in \u001b[0;36m<module>\u001b[1;34m\u001b[0m\n\u001b[1;32m----> 1\u001b[1;33m \u001b[0mstreets\u001b[0m \u001b[1;33m=\u001b[0m \u001b[0mpd\u001b[0m\u001b[1;33m.\u001b[0m\u001b[0mread_csv\u001b[0m\u001b[1;33m(\u001b[0m\u001b[1;34mf'{file_dir}/Streets.csv'\u001b[0m\u001b[1;33m,\u001b[0m \u001b[0mlow_memory\u001b[0m\u001b[1;33m=\u001b[0m\u001b[1;32mFalse\u001b[0m\u001b[1;33m)\u001b[0m\u001b[1;33m\u001b[0m\u001b[1;33m\u001b[0m\u001b[0m\n\u001b[0m\u001b[0;32m      2\u001b[0m \u001b[1;31m#ratings = pd.read_csv(f'{file_dir}/ratings.csv')\u001b[0m\u001b[1;33m\u001b[0m\u001b[1;33m\u001b[0m\u001b[1;33m\u001b[0m\u001b[0m\n",
      "\u001b[1;32m~\\Anaconda3\\envs\\PythonData\\lib\\site-packages\\pandas\\io\\parsers.py\u001b[0m in \u001b[0;36mparser_f\u001b[1;34m(filepath_or_buffer, sep, delimiter, header, names, index_col, usecols, squeeze, prefix, mangle_dupe_cols, dtype, engine, converters, true_values, false_values, skipinitialspace, skiprows, skipfooter, nrows, na_values, keep_default_na, na_filter, verbose, skip_blank_lines, parse_dates, infer_datetime_format, keep_date_col, date_parser, dayfirst, cache_dates, iterator, chunksize, compression, thousands, decimal, lineterminator, quotechar, quoting, doublequote, escapechar, comment, encoding, dialect, error_bad_lines, warn_bad_lines, delim_whitespace, low_memory, memory_map, float_precision)\u001b[0m\n\u001b[0;32m    683\u001b[0m         )\n\u001b[0;32m    684\u001b[0m \u001b[1;33m\u001b[0m\u001b[0m\n\u001b[1;32m--> 685\u001b[1;33m         \u001b[1;32mreturn\u001b[0m \u001b[0m_read\u001b[0m\u001b[1;33m(\u001b[0m\u001b[0mfilepath_or_buffer\u001b[0m\u001b[1;33m,\u001b[0m \u001b[0mkwds\u001b[0m\u001b[1;33m)\u001b[0m\u001b[1;33m\u001b[0m\u001b[1;33m\u001b[0m\u001b[0m\n\u001b[0m\u001b[0;32m    686\u001b[0m \u001b[1;33m\u001b[0m\u001b[0m\n\u001b[0;32m    687\u001b[0m     \u001b[0mparser_f\u001b[0m\u001b[1;33m.\u001b[0m\u001b[0m__name__\u001b[0m \u001b[1;33m=\u001b[0m \u001b[0mname\u001b[0m\u001b[1;33m\u001b[0m\u001b[1;33m\u001b[0m\u001b[0m\n",
      "\u001b[1;32m~\\Anaconda3\\envs\\PythonData\\lib\\site-packages\\pandas\\io\\parsers.py\u001b[0m in \u001b[0;36m_read\u001b[1;34m(filepath_or_buffer, kwds)\u001b[0m\n\u001b[0;32m    455\u001b[0m \u001b[1;33m\u001b[0m\u001b[0m\n\u001b[0;32m    456\u001b[0m     \u001b[1;31m# Create the parser.\u001b[0m\u001b[1;33m\u001b[0m\u001b[1;33m\u001b[0m\u001b[1;33m\u001b[0m\u001b[0m\n\u001b[1;32m--> 457\u001b[1;33m     \u001b[0mparser\u001b[0m \u001b[1;33m=\u001b[0m \u001b[0mTextFileReader\u001b[0m\u001b[1;33m(\u001b[0m\u001b[0mfp_or_buf\u001b[0m\u001b[1;33m,\u001b[0m \u001b[1;33m**\u001b[0m\u001b[0mkwds\u001b[0m\u001b[1;33m)\u001b[0m\u001b[1;33m\u001b[0m\u001b[1;33m\u001b[0m\u001b[0m\n\u001b[0m\u001b[0;32m    458\u001b[0m \u001b[1;33m\u001b[0m\u001b[0m\n\u001b[0;32m    459\u001b[0m     \u001b[1;32mif\u001b[0m \u001b[0mchunksize\u001b[0m \u001b[1;32mor\u001b[0m \u001b[0miterator\u001b[0m\u001b[1;33m:\u001b[0m\u001b[1;33m\u001b[0m\u001b[1;33m\u001b[0m\u001b[0m\n",
      "\u001b[1;32m~\\Anaconda3\\envs\\PythonData\\lib\\site-packages\\pandas\\io\\parsers.py\u001b[0m in \u001b[0;36m__init__\u001b[1;34m(self, f, engine, **kwds)\u001b[0m\n\u001b[0;32m    893\u001b[0m             \u001b[0mself\u001b[0m\u001b[1;33m.\u001b[0m\u001b[0moptions\u001b[0m\u001b[1;33m[\u001b[0m\u001b[1;34m\"has_index_names\"\u001b[0m\u001b[1;33m]\u001b[0m \u001b[1;33m=\u001b[0m \u001b[0mkwds\u001b[0m\u001b[1;33m[\u001b[0m\u001b[1;34m\"has_index_names\"\u001b[0m\u001b[1;33m]\u001b[0m\u001b[1;33m\u001b[0m\u001b[1;33m\u001b[0m\u001b[0m\n\u001b[0;32m    894\u001b[0m \u001b[1;33m\u001b[0m\u001b[0m\n\u001b[1;32m--> 895\u001b[1;33m         \u001b[0mself\u001b[0m\u001b[1;33m.\u001b[0m\u001b[0m_make_engine\u001b[0m\u001b[1;33m(\u001b[0m\u001b[0mself\u001b[0m\u001b[1;33m.\u001b[0m\u001b[0mengine\u001b[0m\u001b[1;33m)\u001b[0m\u001b[1;33m\u001b[0m\u001b[1;33m\u001b[0m\u001b[0m\n\u001b[0m\u001b[0;32m    896\u001b[0m \u001b[1;33m\u001b[0m\u001b[0m\n\u001b[0;32m    897\u001b[0m     \u001b[1;32mdef\u001b[0m \u001b[0mclose\u001b[0m\u001b[1;33m(\u001b[0m\u001b[0mself\u001b[0m\u001b[1;33m)\u001b[0m\u001b[1;33m:\u001b[0m\u001b[1;33m\u001b[0m\u001b[1;33m\u001b[0m\u001b[0m\n",
      "\u001b[1;32m~\\Anaconda3\\envs\\PythonData\\lib\\site-packages\\pandas\\io\\parsers.py\u001b[0m in \u001b[0;36m_make_engine\u001b[1;34m(self, engine)\u001b[0m\n\u001b[0;32m   1133\u001b[0m     \u001b[1;32mdef\u001b[0m \u001b[0m_make_engine\u001b[0m\u001b[1;33m(\u001b[0m\u001b[0mself\u001b[0m\u001b[1;33m,\u001b[0m \u001b[0mengine\u001b[0m\u001b[1;33m=\u001b[0m\u001b[1;34m\"c\"\u001b[0m\u001b[1;33m)\u001b[0m\u001b[1;33m:\u001b[0m\u001b[1;33m\u001b[0m\u001b[1;33m\u001b[0m\u001b[0m\n\u001b[0;32m   1134\u001b[0m         \u001b[1;32mif\u001b[0m \u001b[0mengine\u001b[0m \u001b[1;33m==\u001b[0m \u001b[1;34m\"c\"\u001b[0m\u001b[1;33m:\u001b[0m\u001b[1;33m\u001b[0m\u001b[1;33m\u001b[0m\u001b[0m\n\u001b[1;32m-> 1135\u001b[1;33m             \u001b[0mself\u001b[0m\u001b[1;33m.\u001b[0m\u001b[0m_engine\u001b[0m \u001b[1;33m=\u001b[0m \u001b[0mCParserWrapper\u001b[0m\u001b[1;33m(\u001b[0m\u001b[0mself\u001b[0m\u001b[1;33m.\u001b[0m\u001b[0mf\u001b[0m\u001b[1;33m,\u001b[0m \u001b[1;33m**\u001b[0m\u001b[0mself\u001b[0m\u001b[1;33m.\u001b[0m\u001b[0moptions\u001b[0m\u001b[1;33m)\u001b[0m\u001b[1;33m\u001b[0m\u001b[1;33m\u001b[0m\u001b[0m\n\u001b[0m\u001b[0;32m   1136\u001b[0m         \u001b[1;32melse\u001b[0m\u001b[1;33m:\u001b[0m\u001b[1;33m\u001b[0m\u001b[1;33m\u001b[0m\u001b[0m\n\u001b[0;32m   1137\u001b[0m             \u001b[1;32mif\u001b[0m \u001b[0mengine\u001b[0m \u001b[1;33m==\u001b[0m \u001b[1;34m\"python\"\u001b[0m\u001b[1;33m:\u001b[0m\u001b[1;33m\u001b[0m\u001b[1;33m\u001b[0m\u001b[0m\n",
      "\u001b[1;32m~\\Anaconda3\\envs\\PythonData\\lib\\site-packages\\pandas\\io\\parsers.py\u001b[0m in \u001b[0;36m__init__\u001b[1;34m(self, src, **kwds)\u001b[0m\n\u001b[0;32m   1915\u001b[0m         \u001b[0mkwds\u001b[0m\u001b[1;33m[\u001b[0m\u001b[1;34m\"usecols\"\u001b[0m\u001b[1;33m]\u001b[0m \u001b[1;33m=\u001b[0m \u001b[0mself\u001b[0m\u001b[1;33m.\u001b[0m\u001b[0musecols\u001b[0m\u001b[1;33m\u001b[0m\u001b[1;33m\u001b[0m\u001b[0m\n\u001b[0;32m   1916\u001b[0m \u001b[1;33m\u001b[0m\u001b[0m\n\u001b[1;32m-> 1917\u001b[1;33m         \u001b[0mself\u001b[0m\u001b[1;33m.\u001b[0m\u001b[0m_reader\u001b[0m \u001b[1;33m=\u001b[0m \u001b[0mparsers\u001b[0m\u001b[1;33m.\u001b[0m\u001b[0mTextReader\u001b[0m\u001b[1;33m(\u001b[0m\u001b[0msrc\u001b[0m\u001b[1;33m,\u001b[0m \u001b[1;33m**\u001b[0m\u001b[0mkwds\u001b[0m\u001b[1;33m)\u001b[0m\u001b[1;33m\u001b[0m\u001b[1;33m\u001b[0m\u001b[0m\n\u001b[0m\u001b[0;32m   1918\u001b[0m         \u001b[0mself\u001b[0m\u001b[1;33m.\u001b[0m\u001b[0munnamed_cols\u001b[0m \u001b[1;33m=\u001b[0m \u001b[0mself\u001b[0m\u001b[1;33m.\u001b[0m\u001b[0m_reader\u001b[0m\u001b[1;33m.\u001b[0m\u001b[0munnamed_cols\u001b[0m\u001b[1;33m\u001b[0m\u001b[1;33m\u001b[0m\u001b[0m\n\u001b[0;32m   1919\u001b[0m \u001b[1;33m\u001b[0m\u001b[0m\n",
      "\u001b[1;32mpandas\\_libs\\parsers.pyx\u001b[0m in \u001b[0;36mpandas._libs.parsers.TextReader.__cinit__\u001b[1;34m()\u001b[0m\n",
      "\u001b[1;32mpandas\\_libs\\parsers.pyx\u001b[0m in \u001b[0;36mpandas._libs.parsers.TextReader._setup_parser_source\u001b[1;34m()\u001b[0m\n",
      "\u001b[1;31mFileNotFoundError\u001b[0m: [Errno 2] File b'C:/Users/prent/DSBC/Final_Project/RPD_Accident_ML/Streets.csv' does not exist: b'C:/Users/prent/DSBC/Final_Project/RPD_Accident_ML/Streets.csv'"
     ]
    }
   ],
   "source": [
    "streets = pd.read_csv(f'{file_dir}/Streets.csv', low_memory=False)\n",
    "#ratings = pd.read_csv(f'{file_dir}/ratings.csv')"
   ]
  },
  {
   "cell_type": "code",
   "execution_count": null,
   "metadata": {},
   "outputs": [],
   "source": [
    "streets_df = pd.DataFrame(streets)"
   ]
  },
  {
   "cell_type": "code",
   "execution_count": null,
   "metadata": {},
   "outputs": [],
   "source": [
    "streets_df.head()"
   ]
  },
  {
   "cell_type": "code",
   "execution_count": null,
   "metadata": {},
   "outputs": [],
   "source": [
    "# Create additional DF columns\n",
    "streets_df['Street_Type'] = \"\"\n",
    "streets_df['Highway_Object'] = \"\""
   ]
  },
  {
   "cell_type": "code",
   "execution_count": 4,
   "metadata": {},
   "outputs": [
    {
     "ename": "NameError",
     "evalue": "name 'streets_df' is not defined",
     "output_type": "error",
     "traceback": [
      "\u001b[1;31m---------------------------------------------------------------------------\u001b[0m",
      "\u001b[1;31mNameError\u001b[0m                                 Traceback (most recent call last)",
      "\u001b[1;32m<ipython-input-4-74a4dfd09cad>\u001b[0m in \u001b[0;36m<module>\u001b[1;34m\u001b[0m\n\u001b[1;32m----> 1\u001b[1;33m \u001b[0mstreets_df\u001b[0m\u001b[1;33m.\u001b[0m\u001b[0mhead\u001b[0m\u001b[1;33m(\u001b[0m\u001b[1;33m)\u001b[0m\u001b[1;33m\u001b[0m\u001b[1;33m\u001b[0m\u001b[0m\n\u001b[0m",
      "\u001b[1;31mNameError\u001b[0m: name 'streets_df' is not defined"
     ]
    }
   ],
   "source": [
    "streets_df.head()"
   ]
  },
  {
   "cell_type": "code",
   "execution_count": null,
   "metadata": {},
   "outputs": [],
   "source": [
    "searchfor = ['Highway', 'Expy', 'Fwy', 'Hwy', 'Interstate', 'Tpke', 'Pkwy', 'State Highway', 'Highway', 'Route', 'FM', 'Byp', 'Tollway','Trwy', 'Beltway', 'Skyway']\n",
    "streets_df.loc[streets_df['Street'].str.contains('|'.join(searchfor), case=False), 'Street_Type2'] = 'Highway'"
   ]
  },
  {
   "cell_type": "code",
   "execution_count": null,
   "metadata": {},
   "outputs": [],
   "source": [
    "# Convert Highways, etc. to Street_Type \n",
    "streets_df.loc[streets_df['Street_Copy'].str.contains('highway', case=False), 'Street_Type'] = 'Highway'\n",
    "streets_df.loc[streets_df['Street_Copy'].str.contains('Tollway', case=False), 'Street_Type'] = 'Tollway'\n",
    "streets_df.loc[streets_df['Street_Copy'].str.contains('expy', case=False), 'Street_Type'] = 'Expy'\n",
    "streets_df.loc[streets_df['Street_Copy'].str.contains('fwy', case=False), 'Street_Type'] = 'Fwy'\n",
    "streets_df.loc[streets_df['Street_Copy'].str.contains('hwy', case=False), 'Street_Type'] = 'Hwy'\n",
    "streets_df.loc[streets_df['Street_Copy'].str.contains('Interstate', case=False), 'Street_Type'] = 'Interstate'\n",
    "streets_df.loc[streets_df['Street_Copy'].str.contains('Tpke', case=False), 'Street_Type'] = 'Tpke'\n",
    "streets_df.loc[streets_df['Street_Copy'].str.contains('Pkwy', case=False), 'Street_Type'] = 'Pkwy'\n",
    "streets_df.loc[streets_df['Street_Copy'].str.contains('Parkway', case=False), 'Street_Type'] = 'Pkwy'\n",
    "streets_df.loc[streets_df['Street_Copy'].str.contains('-', case=False), 'Street_Type'] = 'State Highway'\n",
    "streets_df.loc[streets_df['Street_Copy'].str.contains('US ', case=False), 'Street_Type'] = 'Highway'\n",
    "streets_df.loc[streets_df['Street_Copy'].str.contains('Route', case=False), 'Street_Type'] = 'Route'\n",
    "streets_df.loc[streets_df['Street_Copy'].str.contains('FM', case=False), 'Street_Type'] = 'FM'\n",
    "streets_df.loc[streets_df['Street_Copy'].str.contains('Byp', case=False), 'Street_Type'] = 'Byp'\n",
    "streets_df.loc[streets_df['Street_Copy'].str.contains('Trwy', case=False), 'Street_Type'] = 'Trwy'\n",
    "\n",
    "streets_df.loc[streets_df['Street_Copy'].str.contains('Beltway', case=False), 'Street_Type'] = 'Beltway'\n",
    "streets_df.loc[streets_df['Street_Copy'].str.contains('Skyway', case=False), 'Street_Type'] = 'Skyway'\n",
    "streets_df.loc[streets_df['Street_Copy'].str.contains('Skwy', case=False), 'Street_Type'] = 'Skyway'\n"
   ]
  },
  {
   "cell_type": "code",
   "execution_count": null,
   "metadata": {},
   "outputs": [],
   "source": [
    "# Convert Streets, etc. to Street_Type \n",
    "streets_df.loc[streets_df['Street_Copy'].str.contains('Rd', case=False), 'Street_Type'] = 'Rd'\n",
    "streets_df.loc[streets_df['Street_Copy'].str.contains('Dr', case=False), 'Street_Type'] = 'Dr'\n",
    "streets_df.loc[streets_df['Street_Copy'].str.contains('St', case=False), 'Street_Type'] = 'St'\n",
    "streets_df.loc[streets_df['Street_Copy'].str.contains('Ave', case=False), 'Street_Type'] = 'Ave'\n",
    "streets_df.loc[streets_df['Street_Copy'].str.contains('Ln', case=False), 'Street_Type'] = 'Ln'\n",
    "streets_df.loc[streets_df['Street_Copy'].str.contains('Brg', case=False), 'Street_Type'] = 'Brg'\n",
    "streets_df.loc[streets_df['Street_Copy'].str.contains('Road', case=False), 'Street_Type'] = 'Road'\n",
    "streets_df.loc[streets_df['Street_Copy'].str.contains('Avenue', case=False), 'Street_Type'] = 'Ave'\n",
    "streets_df.loc[streets_df['Street_Copy'].str.contains('Place', case=False), 'Street_Type'] = 'Place'\n",
    "streets_df.loc[streets_df['Street_Copy'].str.contains('Trl', case=False), 'Street_Type'] = 'Trail'\n",
    "streets_df.loc[streets_df['Street_Copy'].str.contains('Blvd', case=False), 'Street_Type'] = 'Boulevard'\n",
    "streets_df.loc[streets_df['Street_Copy'].str.contains('Circle', case=False), 'Street_Type'] = 'Circle'\n",
    "streets_df.loc[streets_df['Street_Copy'].str.contains('Ct', case=False), 'Street_Type'] = 'Ct'\n",
    "streets_df.loc[streets_df['Street_Copy'].str.contains('Court', case=False), 'Street_Type'] = 'Cte'\n",
    "streets_df.loc[streets_df['Street_Copy'].str.contains(' Way', case=False), 'Street_Type'] = 'Way'\n",
    "streets_df.loc[streets_df['Street_Copy'].str.contains('Gtwy', case=False), 'Street_Type'] = 'Gtwy'\n",
    "streets_df.loc[streets_df['Street_Copy'].str.contains('Pl', case=False), 'Street_Type'] = 'Pl'\n",
    "streets_df.loc[streets_df['Street_Copy'].str.contains('Sq', case=False), 'Street_Type'] = 'Sq'\n",
    "streets_df.loc[streets_df['Street_Copy'].str.contains('Pike', case=False), 'Street_Type'] = 'Pike'\n",
    "streets_df.loc[streets_df['Street_Copy'].str.contains('Ter', case=False), 'Street_Type'] = 'Ter'\n",
    "streets_df.loc[streets_df['Street_Copy'].str.contains('Cir', case=False), 'Street_Type'] = 'Cir'\n",
    "streets_df.loc[streets_df['Street_Copy'].str.contains('Xing', case=False), 'Street_Type'] = 'Xing'\n",
    "streets_df.loc[streets_df['Street_Copy'].str.contains('Camino', case=False), 'Street_Type'] = 'Camino'\n",
    "streets_df.loc[streets_df['Street_Copy'].str.contains('Loop', case=False), 'Street_Type'] = 'Loop'\n",
    "streets_df.loc[streets_df['Street_Copy'].str.contains('Bridge', case=False), 'Street_Type'] = 'Bridge'\n",
    "streets_df.loc[streets_df['Street_Copy'].str.contains('Pass', case=False), 'Street_Type'] = 'Pass'\n",
    "streets_df.loc[streets_df['Street_Copy'].str.contains('Cutoff', case=False), 'Street_Type'] = 'Cutoff'\n",
    "streets_df.loc[streets_df['Street_Copy'].str.contains('Tunnel', case=False), 'Street_Type'] = 'Tunnel'\n",
    "streets_df.loc[streets_df['Street_Copy'].str.contains('Tunl', case=False), 'Street_Type'] = 'Tunnel'\n",
    "streets_df.loc[streets_df['Street_Copy'].str.contains('Cv', case=False), 'Street_Type'] = 'Cv'\n",
    "streets_df.loc[streets_df['Street_Copy'].str.contains('Aly', case=False), 'Street_Type'] = 'Aly'\n",
    "streets_df.loc[streets_df['Street_Copy'].str.contains('Path', case=False), 'Street_Type'] = 'Path'\n",
    "streets_df.loc[streets_df['Street_Copy'].str.contains('Via', case=False), 'Street_Type'] = 'Via'\n",
    "streets_df.loc[streets_df['Street_Copy'].str.contains('Row', case=False), 'Street_Type'] = 'Row'\n",
    "streets_df.loc[streets_df['Street_Copy'].str.contains('Run', case=False), 'Street_Type'] = 'Run'\n",
    "streets_df.loc[streets_df['Street_Copy'].str.contains('Trce', case=False), 'Street_Type'] = 'Trce'\n",
    "streets_df.loc[streets_df['Street_Copy'].str.contains('Park', case=False), 'Street_Type'] = 'Park'\n",
    "streets_df.loc[streets_df['Street_Copy'].str.contains('Hts', case=False), 'Street_Type'] = 'Hts'\n",
    "\n",
    "\n",
    "\n",
    "streets_df.loc[streets_df['Street_Copy'].str.contains('M ', case=True), 'Street_Type'] = 'M '\n",
    "\n",
    "streets_df.loc[streets_df['Street_Copy'].str.contains('N ', case=True), 'Street_Type'] = 'N '\n",
    "streets_df.loc[streets_df['Street_Copy'].str.contains('E ', case=True), 'Street_Type'] = 'E '\n",
    "streets_df.loc[streets_df['Street_Copy'].str.contains('W ', case=True), 'Street_Type'] = 'W '\n",
    "streets_df.loc[streets_df['Street_Copy'].str.contains('S ', case=True), 'Street_Type'] = 'S '\n",
    "\n",
    "\n"
   ]
  },
  {
   "cell_type": "code",
   "execution_count": null,
   "metadata": {},
   "outputs": [],
   "source": [
    "Highways = ('Highway', 'Expy', 'Fwy', 'Hwy', 'Interstate', 'Tpke', 'Pkwy', 'State Highway', 'Highway', 'Route', 'FM', 'Byp', 'Tollway','Trwy', 'Beltway', 'Skyway')"
   ]
  },
  {
   "cell_type": "code",
   "execution_count": null,
   "metadata": {},
   "outputs": [],
   "source": [
    "streets_df['Highway_Object'] = np.where((streets_df['Street_Type'].isin(['Highway', 'Expy', 'Fwy', 'Hwy', 'Interstate', 'Tpke', 'Pkwy', 'State Highway', 'Highway', 'Route', 'FM', 'Byp', 'Tollway' ,'Trwy', 'Beltway', 'Skyway'])), \"Y\", \"N\")"
   ]
  },
  {
   "cell_type": "code",
   "execution_count": null,
   "metadata": {},
   "outputs": [],
   "source": [
    "# streets_df['Highway_Object'] = np.where((streets_df['Street_Type'].isin([Highways])), \"Y\", \"N\")"
   ]
  },
  {
   "cell_type": "code",
   "execution_count": null,
   "metadata": {},
   "outputs": [],
   "source": [
    "streets_df.head(100)"
   ]
  },
  {
   "cell_type": "code",
   "execution_count": null,
   "metadata": {},
   "outputs": [],
   "source": [
    "streets_df[streets_df['Street_Type'] == \"\"].index\n"
   ]
  },
  {
   "cell_type": "code",
   "execution_count": null,
   "metadata": {},
   "outputs": [],
   "source": [
    "blank_street = streets_df[streets_df['Street_Type'] == \"\"]\n",
    "blank_street.head(10)"
   ]
  },
  {
   "cell_type": "code",
   "execution_count": null,
   "metadata": {},
   "outputs": [],
   "source": [
    "blank_street.to_csv('blank_street.csv')"
   ]
  },
  {
   "cell_type": "code",
   "execution_count": null,
   "metadata": {},
   "outputs": [],
   "source": [
    "streets_df.to_csv('Highways.csv')\n"
   ]
  }
 ],
 "metadata": {
  "kernelspec": {
   "display_name": "Python 3",
   "language": "python",
   "name": "python3"
  },
  "language_info": {
   "codemirror_mode": {
    "name": "ipython",
    "version": 3
   },
   "file_extension": ".py",
   "mimetype": "text/x-python",
   "name": "python",
   "nbconvert_exporter": "python",
   "pygments_lexer": "ipython3",
   "version": "3.6.9"
  }
 },
 "nbformat": 4,
 "nbformat_minor": 2
}
